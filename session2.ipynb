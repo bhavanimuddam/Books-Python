{
  "nbformat": 4,
  "nbformat_minor": 0,
  "metadata": {
    "colab": {
      "provenance": [],
      "authorship_tag": "ABX9TyP3r80OUd3pjwC5jMV11mCD",
      "include_colab_link": true
    },
    "kernelspec": {
      "name": "python3",
      "display_name": "Python 3"
    },
    "language_info": {
      "name": "python"
    }
  },
  "cells": [
    {
      "cell_type": "markdown",
      "metadata": {
        "id": "view-in-github",
        "colab_type": "text"
      },
      "source": [
        "<a href=\"https://colab.research.google.com/github/bhavanimuddam/Books-Python/blob/main/session2.ipynb\" target=\"_parent\"><img src=\"https://colab.research.google.com/assets/colab-badge.svg\" alt=\"Open In Colab\"/></a>"
      ]
    },
    {
      "cell_type": "markdown",
      "source": [
        "rules for **variables**\n",
        "\n",
        "---\n",
        "variables names must be starts [A-Z],[a-z],_\n",
        "\n",
        "\n",
        "\n",
        "\n"
      ],
      "metadata": {
        "id": "geJvNkaDgB6-"
      }
    },
    {
      "cell_type": "code",
      "execution_count": null,
      "metadata": {
        "colab": {
          "base_uri": "https://localhost:8080/"
        },
        "id": "Ro39ZdlGwh-3",
        "outputId": "900d4e29-8027-447a-d0ff-2fa5adce636e"
      },
      "outputs": [
        {
          "output_type": "execute_result",
          "data": {
            "text/plain": [
              "['python', 'java']"
            ]
          },
          "metadata": {},
          "execution_count": 1
        }
      ],
      "source": [
        "sub=[\"python\",\"java\"]\n",
        "sub"
      ]
    },
    {
      "cell_type": "code",
      "source": [
        "Sub=[\"python\",\"java\",\"c\"]\n",
        "Sub\n"
      ],
      "metadata": {
        "colab": {
          "base_uri": "https://localhost:8080/"
        },
        "id": "fBilpQ1nwud8",
        "outputId": "e4b18504-2652-48f1-c557-d7d05291aa6d"
      },
      "execution_count": null,
      "outputs": [
        {
          "output_type": "execute_result",
          "data": {
            "text/plain": [
              "['python', 'java', 'c']"
            ]
          },
          "metadata": {},
          "execution_count": 2
        }
      ]
    },
    {
      "cell_type": "code",
      "source": [
        "_sub=[\"python\",\"java\",\"c\"]\n",
        "_sub"
      ],
      "metadata": {
        "colab": {
          "base_uri": "https://localhost:8080/"
        },
        "id": "FuklHcXXw47s",
        "outputId": "7632e98d-1188-45b1-bf95-6c859e6d4f40"
      },
      "execution_count": null,
      "outputs": [
        {
          "output_type": "execute_result",
          "data": {
            "text/plain": [
              "['python', 'java', 'c']"
            ]
          },
          "metadata": {},
          "execution_count": 3
        }
      ]
    },
    {
      "cell_type": "code",
      "source": [
        "2sub=[\"python\",\"java\",\"c\"]\n",
        "2sub"
      ],
      "metadata": {
        "id": "y7xVEUxxxC7F"
      },
      "execution_count": null,
      "outputs": []
    },
    {
      "cell_type": "code",
      "source": [
        "sub name=[\"python\",\"java\",\"c\"]\n",
        "sub name"
      ],
      "metadata": {
        "id": "1gcfOxbOxJh2"
      },
      "execution_count": null,
      "outputs": []
    },
    {
      "cell_type": "markdown",
      "source": [
        "data types"
      ],
      "metadata": {
        "id": "3YVfOBHdgKde"
      }
    },
    {
      "cell_type": "code",
      "source": [
        "#data types\n",
        "x=107\n",
        "type(x)"
      ],
      "metadata": {
        "colab": {
          "base_uri": "https://localhost:8080/"
        },
        "id": "bVcS-ZcfxqHT",
        "outputId": "acd6d9f6-2d73-402c-d292-aef490a5ff0e"
      },
      "execution_count": null,
      "outputs": [
        {
          "output_type": "execute_result",
          "data": {
            "text/plain": [
              "int"
            ]
          },
          "metadata": {},
          "execution_count": 7
        }
      ]
    },
    {
      "cell_type": "code",
      "source": [
        "x=\"virat kohli\"\n",
        "type(x)"
      ],
      "metadata": {
        "colab": {
          "base_uri": "https://localhost:8080/"
        },
        "id": "gVs8DEcxx1Fn",
        "outputId": "48863927-b46b-4a2b-def9-7c84fecaab98"
      },
      "execution_count": null,
      "outputs": [
        {
          "output_type": "execute_result",
          "data": {
            "text/plain": [
              "str"
            ]
          },
          "metadata": {},
          "execution_count": 8
        }
      ]
    },
    {
      "cell_type": "code",
      "source": [
        "x=True\n",
        "type(x)"
      ],
      "metadata": {
        "colab": {
          "base_uri": "https://localhost:8080/"
        },
        "id": "Ls_H0N8tgPs6",
        "outputId": "77df5bc8-cdd6-4016-f9d1-26292fd4fff3"
      },
      "execution_count": 1,
      "outputs": [
        {
          "output_type": "execute_result",
          "data": {
            "text/plain": [
              "bool"
            ]
          },
          "metadata": {},
          "execution_count": 1
        }
      ]
    },
    {
      "cell_type": "code",
      "source": [
        "x=\"True\"\n",
        "type(x)"
      ],
      "metadata": {
        "colab": {
          "base_uri": "https://localhost:8080/"
        },
        "id": "__ePn9JZgmFE",
        "outputId": "e04543c3-003c-48ce-9061-5445ccc69850"
      },
      "execution_count": 2,
      "outputs": [
        {
          "output_type": "execute_result",
          "data": {
            "text/plain": [
              "str"
            ]
          },
          "metadata": {},
          "execution_count": 2
        }
      ]
    },
    {
      "cell_type": "markdown",
      "source": [
        "**list**\n",
        "\n",
        "---\n",
        "\n",
        "\n",
        "*list is mutable\n",
        "\n",
        "---\n",
        "\n",
        "\n",
        "*index starts from zero\n",
        "\n",
        "---\n",
        "\n",
        "\n",
        "*we can modify,delete,update values in list\n",
        "\n",
        "---\n",
        "\n",
        "\n",
        "*list is the collection different data types\n",
        "\n",
        "---\n",
        "\n",
        "\n",
        "*list is denoted in square brackets\n",
        "\n",
        "\n",
        "\n"
      ],
      "metadata": {
        "id": "ZFJdppXMliBV"
      }
    },
    {
      "cell_type": "code",
      "source": [
        "list_1=[1,2,\"example\",12.5]\n",
        "list_1"
      ],
      "metadata": {
        "colab": {
          "base_uri": "https://localhost:8080/"
        },
        "id": "femnSkhtm-nP",
        "outputId": "bd486249-5956-4c8b-b20f-1f8ddf8de275"
      },
      "execution_count": 3,
      "outputs": [
        {
          "output_type": "execute_result",
          "data": {
            "text/plain": [
              "[1, 2, 'example', 12.5]"
            ]
          },
          "metadata": {},
          "execution_count": 3
        }
      ]
    },
    {
      "cell_type": "code",
      "source": [
        "type(list_1)"
      ],
      "metadata": {
        "colab": {
          "base_uri": "https://localhost:8080/"
        },
        "id": "iSuhdMxnnJYA",
        "outputId": "2cc84faf-eddc-4a97-d117-5fdf85ba3692"
      },
      "execution_count": 4,
      "outputs": [
        {
          "output_type": "execute_result",
          "data": {
            "text/plain": [
              "list"
            ]
          },
          "metadata": {},
          "execution_count": 4
        }
      ]
    },
    {
      "cell_type": "code",
      "source": [
        "list_1[1]"
      ],
      "metadata": {
        "colab": {
          "base_uri": "https://localhost:8080/"
        },
        "id": "sRjvEOlHoCos",
        "outputId": "4570d5c1-e983-4981-c484-718f8d606789"
      },
      "execution_count": 5,
      "outputs": [
        {
          "output_type": "execute_result",
          "data": {
            "text/plain": [
              "2"
            ]
          },
          "metadata": {},
          "execution_count": 5
        }
      ]
    },
    {
      "cell_type": "code",
      "source": [
        "list_1[2]"
      ],
      "metadata": {
        "colab": {
          "base_uri": "https://localhost:8080/",
          "height": 35
        },
        "id": "wIJf5xCEoF4y",
        "outputId": "cd74cd56-df6d-4801-eb31-4c365f2691cd"
      },
      "execution_count": 6,
      "outputs": [
        {
          "output_type": "execute_result",
          "data": {
            "text/plain": [
              "'example'"
            ],
            "application/vnd.google.colaboratory.intrinsic+json": {
              "type": "string"
            }
          },
          "metadata": {},
          "execution_count": 6
        }
      ]
    },
    {
      "cell_type": "code",
      "source": [
        "list_1[-1]"
      ],
      "metadata": {
        "colab": {
          "base_uri": "https://localhost:8080/"
        },
        "id": "n70mssZ1oKIR",
        "outputId": "a9dc0767-1397-4640-b434-35c577ac44bb"
      },
      "execution_count": 7,
      "outputs": [
        {
          "output_type": "execute_result",
          "data": {
            "text/plain": [
              "12.5"
            ]
          },
          "metadata": {},
          "execution_count": 7
        }
      ]
    },
    {
      "cell_type": "code",
      "source": [
        "#index out of range (error)\n",
        "list_1[10]"
      ],
      "metadata": {
        "id": "9IgIwV5_oMlc"
      },
      "execution_count": null,
      "outputs": []
    },
    {
      "cell_type": "code",
      "source": [
        "list_1[1]=100\n",
        "list_1"
      ],
      "metadata": {
        "colab": {
          "base_uri": "https://localhost:8080/"
        },
        "id": "NtVGSLdvoTRT",
        "outputId": "969e9418-6e3a-4bc6-c99f-5394d61fd26f"
      },
      "execution_count": 13,
      "outputs": [
        {
          "output_type": "execute_result",
          "data": {
            "text/plain": [
              "[100, 100, 'example', 12.5]"
            ]
          },
          "metadata": {},
          "execution_count": 13
        }
      ]
    },
    {
      "cell_type": "markdown",
      "source": [
        "**tuple**\n",
        "\n",
        "---\n",
        "**tuple is immutable**"
      ],
      "metadata": {
        "id": "265lHEQvp_G5"
      }
    },
    {
      "cell_type": "code",
      "source": [
        "tuple_1=(1,2,\"example\",12.5)\n",
        "tuple_1"
      ],
      "metadata": {
        "colab": {
          "base_uri": "https://localhost:8080/"
        },
        "id": "clLAuRTCotb3",
        "outputId": "a204bff1-0cc5-4e70-d260-387e44cba5f6"
      },
      "execution_count": 14,
      "outputs": [
        {
          "output_type": "execute_result",
          "data": {
            "text/plain": [
              "(1, 2, 'example', 12.5)"
            ]
          },
          "metadata": {},
          "execution_count": 14
        }
      ]
    },
    {
      "cell_type": "code",
      "source": [
        "tuple_1=1,2,\"example\",12.5\n",
        "tuple_1"
      ],
      "metadata": {
        "colab": {
          "base_uri": "https://localhost:8080/"
        },
        "id": "5thtCajbpAzy",
        "outputId": "3e6048ac-ea67-4dfb-d137-afed4d25666b"
      },
      "execution_count": 15,
      "outputs": [
        {
          "output_type": "execute_result",
          "data": {
            "text/plain": [
              "(1, 2, 'example', 12.5)"
            ]
          },
          "metadata": {},
          "execution_count": 15
        }
      ]
    },
    {
      "cell_type": "code",
      "source": [
        "type(tuple_1)"
      ],
      "metadata": {
        "colab": {
          "base_uri": "https://localhost:8080/"
        },
        "id": "4d88DVXPpGyR",
        "outputId": "b4d3c519-c569-4f6d-c8b9-05d4409a6ed8"
      },
      "execution_count": 16,
      "outputs": [
        {
          "output_type": "execute_result",
          "data": {
            "text/plain": [
              "tuple"
            ]
          },
          "metadata": {},
          "execution_count": 16
        }
      ]
    },
    {
      "cell_type": "code",
      "source": [
        "tuple_1[1]"
      ],
      "metadata": {
        "colab": {
          "base_uri": "https://localhost:8080/"
        },
        "id": "g4D_i0PzpKEe",
        "outputId": "eec24a6d-a6f6-4b09-8713-d43523e888c8"
      },
      "execution_count": 17,
      "outputs": [
        {
          "output_type": "execute_result",
          "data": {
            "text/plain": [
              "2"
            ]
          },
          "metadata": {},
          "execution_count": 17
        }
      ]
    },
    {
      "cell_type": "code",
      "source": [
        "tuple_1[-2]"
      ],
      "metadata": {
        "colab": {
          "base_uri": "https://localhost:8080/",
          "height": 35
        },
        "id": "FOfW64nWpQsb",
        "outputId": "95466197-3a82-45be-bdec-58cb9ad862a3"
      },
      "execution_count": 18,
      "outputs": [
        {
          "output_type": "execute_result",
          "data": {
            "text/plain": [
              "'example'"
            ],
            "application/vnd.google.colaboratory.intrinsic+json": {
              "type": "string"
            }
          },
          "metadata": {},
          "execution_count": 18
        }
      ]
    },
    {
      "cell_type": "code",
      "source": [
        "#immutable (gives error)\n",
        "tuple_1[1]=500\n",
        "tuple_1"
      ],
      "metadata": {
        "id": "C8oeiOkBpVsj"
      },
      "execution_count": null,
      "outputs": []
    },
    {
      "cell_type": "markdown",
      "source": [],
      "metadata": {
        "id": "nztMnIyRrRV1"
      }
    },
    {
      "cell_type": "markdown",
      "source": [
        "**set**\n",
        "---\n",
        "set is mutable\n",
        "---\n",
        "set does not allow duplicates\n",
        "---\n",
        "in set, we cannot retrieve elements using **index**\n",
        "---\n",
        "we can use add,remove methods to do \n",
        "\n",
        "\n",
        "\n",
        "\n"
      ],
      "metadata": {
        "id": "KINFRm3krT49"
      }
    },
    {
      "cell_type": "code",
      "source": [
        "s={1,12,7,99,4.6,\"apple\",\"virat\",1,1,3}\n",
        "s"
      ],
      "metadata": {
        "colab": {
          "base_uri": "https://localhost:8080/"
        },
        "id": "0FMpYrw_r6pJ",
        "outputId": "545321bc-b412-4dd6-9413-78626fe6a0ea"
      },
      "execution_count": 21,
      "outputs": [
        {
          "output_type": "execute_result",
          "data": {
            "text/plain": [
              "{1, 12, 3, 4.6, 7, 99, 'apple', 'virat'}"
            ]
          },
          "metadata": {},
          "execution_count": 21
        }
      ]
    },
    {
      "cell_type": "code",
      "source": [
        "type(s)"
      ],
      "metadata": {
        "colab": {
          "base_uri": "https://localhost:8080/"
        },
        "id": "Lz6PWOEmsYSR",
        "outputId": "c98dcf6c-1c52-4840-af67-75b5dcd8ffcf"
      },
      "execution_count": 22,
      "outputs": [
        {
          "output_type": "execute_result",
          "data": {
            "text/plain": [
              "set"
            ]
          },
          "metadata": {},
          "execution_count": 22
        }
      ]
    },
    {
      "cell_type": "code",
      "source": [
        "#we cannot retrieve using index\n",
        "s[0]"
      ],
      "metadata": {
        "id": "I5_TlK96sg_J"
      },
      "execution_count": null,
      "outputs": []
    },
    {
      "cell_type": "code",
      "source": [
        "# gives error (index can't used)\n",
        "s[0]=\"hello\""
      ],
      "metadata": {
        "id": "323h4f1Jss3k"
      },
      "execution_count": null,
      "outputs": []
    },
    {
      "cell_type": "code",
      "source": [
        "s.add(\"hello\")\n",
        "s"
      ],
      "metadata": {
        "colab": {
          "base_uri": "https://localhost:8080/"
        },
        "id": "hG-MGsC1tASo",
        "outputId": "c343555d-3d19-4cb4-9364-07382dd67ada"
      },
      "execution_count": 25,
      "outputs": [
        {
          "output_type": "execute_result",
          "data": {
            "text/plain": [
              "{1, 12, 3, 4.6, 7, 99, 'apple', 'hello', 'virat'}"
            ]
          },
          "metadata": {},
          "execution_count": 25
        }
      ]
    },
    {
      "cell_type": "code",
      "source": [
        "s.remove(\"hello\")"
      ],
      "metadata": {
        "id": "DfTFsk0vtHa3"
      },
      "execution_count": 26,
      "outputs": []
    },
    {
      "cell_type": "code",
      "source": [
        "s"
      ],
      "metadata": {
        "colab": {
          "base_uri": "https://localhost:8080/"
        },
        "id": "KBJ_rJictP8Y",
        "outputId": "cb6f9f93-9fd3-4f28-c951-4307558bdc68"
      },
      "execution_count": 27,
      "outputs": [
        {
          "output_type": "execute_result",
          "data": {
            "text/plain": [
              "{1, 12, 3, 4.6, 7, 99, 'apple', 'virat'}"
            ]
          },
          "metadata": {},
          "execution_count": 27
        }
      ]
    },
    {
      "cell_type": "markdown",
      "source": [
        "**dictionary**\n",
        "---\n",
        "has key-value pair data structure\n",
        "---\n",
        "key is unique\n",
        "---\n",
        "values can be duplicated but not keys\n",
        "---\n",
        "values can br retrieved using key"
      ],
      "metadata": {
        "id": "RbKYzMdPtTY4"
      }
    },
    {
      "cell_type": "code",
      "source": [
        "d={1:\"apple\",2:23,4:\"data\",7:5.5,3:\"value\"}\n",
        "d"
      ],
      "metadata": {
        "colab": {
          "base_uri": "https://localhost:8080/"
        },
        "id": "9bM9jg6JtSkV",
        "outputId": "b414604d-5abb-4631-ebe8-16877f48752a"
      },
      "execution_count": 28,
      "outputs": [
        {
          "output_type": "execute_result",
          "data": {
            "text/plain": [
              "{1: 'apple', 2: 23, 4: 'data', 7: 5.5, 3: 'value'}"
            ]
          },
          "metadata": {},
          "execution_count": 28
        }
      ]
    },
    {
      "cell_type": "code",
      "source": [
        "d[2]"
      ],
      "metadata": {
        "colab": {
          "base_uri": "https://localhost:8080/"
        },
        "id": "OIAdSC0Rv__v",
        "outputId": "54e542ca-010c-4b3f-ec9c-d3df342a75bc"
      },
      "execution_count": 29,
      "outputs": [
        {
          "output_type": "execute_result",
          "data": {
            "text/plain": [
              "23"
            ]
          },
          "metadata": {},
          "execution_count": 29
        }
      ]
    },
    {
      "cell_type": "code",
      "source": [
        "# 5 is not a key \n",
        "d[5]"
      ],
      "metadata": {
        "id": "RqHrT1bxwDGh"
      },
      "execution_count": null,
      "outputs": []
    },
    {
      "cell_type": "code",
      "source": [
        "#apple is value but not key .\n",
        "d[\"apple\"]"
      ],
      "metadata": {
        "id": "FIR6VnqiwIUx"
      },
      "execution_count": null,
      "outputs": []
    },
    {
      "cell_type": "code",
      "source": [
        "d[7]=100\n",
        "d"
      ],
      "metadata": {
        "colab": {
          "base_uri": "https://localhost:8080/"
        },
        "id": "883XKjYnwdgg",
        "outputId": "bb17a401-e494-42a1-e4e8-a030d6eb09d4"
      },
      "execution_count": 33,
      "outputs": [
        {
          "output_type": "execute_result",
          "data": {
            "text/plain": [
              "{1: 'apple', 2: 23, 4: 'data', 7: 100, 3: 'value'}"
            ]
          },
          "metadata": {},
          "execution_count": 33
        }
      ]
    },
    {
      "cell_type": "code",
      "source": [
        "d[10]=\"virat\"\n",
        "d"
      ],
      "metadata": {
        "colab": {
          "base_uri": "https://localhost:8080/"
        },
        "id": "5BJLi7cYwwy0",
        "outputId": "3a8610f2-5f0b-47ae-a4ad-ec7802b40682"
      },
      "execution_count": 34,
      "outputs": [
        {
          "output_type": "execute_result",
          "data": {
            "text/plain": [
              "{1: 'apple', 2: 23, 4: 'data', 7: 100, 3: 'value', 10: 'virat'}"
            ]
          },
          "metadata": {},
          "execution_count": 34
        }
      ]
    }
  ]
}